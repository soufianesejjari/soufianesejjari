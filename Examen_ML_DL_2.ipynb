{
  "cells": [
    {
      "cell_type": "markdown",
      "metadata": {
        "id": "view-in-github",
        "colab_type": "text"
      },
      "source": [
        "<a href=\"https://colab.research.google.com/github/soufianesejjari/soufianesejjari/blob/main/Examen_ML_DL_2.ipynb\" target=\"_parent\"><img src=\"https://colab.research.google.com/assets/colab-badge.svg\" alt=\"Open In Colab\"/></a>"
      ]
    },
    {
      "cell_type": "markdown",
      "source": [
        "*   Nom : Sejjari\n",
        "*   Prénom :\n",
        "*   Master : [2IAD] ou [BIBDA]\n",
        "\n",
        "# **Consignes**\n",
        "\n",
        "*   Répondez aux exercices puis allez dans \"File\" > \"Download\" > \"Download .ipynb\" pour télécharger l'exam corrigé.\n",
        "*   Renommez le fichier sous format : **Nom_Prenom_Master.ipynb**\n",
        "*   Envoyez le fichier .ipynb par courriel : badouchmohamed@gmail.com"
      ],
      "metadata": {
        "id": "EoVmDv6CQ9qP"
      }
    },
    {
      "cell_type": "markdown",
      "source": [
        "# **Exercice 1 : Régression Linéaire (5 points)**"
      ],
      "metadata": {
        "id": "K4jrVxdRMMoY"
      }
    },
    {
      "cell_type": "markdown",
      "source": [
        "Utilisez le dataset : from keras.datasets import boston_housing\n",
        "\n",
        "*   Implémentation (3 points) : Implémentez un modèle de régression linéaire pour prédire le prix des maisons en fonction de leurs caractéristiques (surface, nombre de chambres, etc.)\n",
        "*   Évaluation des Performances (1 points) : Évaluez les performances du modèle à l'aide de la métrique RMSE (Root Mean Squared Error)\n",
        "*   Analyse des Résultats (1 point) : Interprétez les coefficients du modèle et discutez de leur signification\n"
      ],
      "metadata": {
        "id": "Jawc2zoba39P"
      }
    },
    {
      "cell_type": "code",
      "execution_count": null,
      "metadata": {
        "ExecuteTime": {
          "end_time": "2020-12-06T15:43:55.554499Z",
          "start_time": "2020-12-06T15:43:55.043211Z"
        },
        "collapsed": true,
        "id": "14h4ejQKFVe9"
      },
      "outputs": [],
      "source": [
        "from keras.datasets import boston_housing\n",
        "print('Exercice 1 - DEBUT')\n",
        "# TODO\n",
        "print('Exercice 1 - FIN')"
      ]
    },
    {
      "cell_type": "markdown",
      "source": [
        "# **Exercice 2 : Classification des Fleurs d'Iris avec un Réseau de Neurones (5 points)**"
      ],
      "metadata": {
        "id": "p3EFR0zlMYGh"
      }
    },
    {
      "cell_type": "markdown",
      "source": [
        "Utilisez le dataset : from keras.datasets import boston_housing\n",
        "\n",
        "*   Implémentation d'un Réseau de Neurones Simple (2 points) : Créez et entraînez un réseau de neurones simple pour classer les fleurs d'iris.\n",
        "*   Implémentation d'un Réseau de Neurones Complexe (2 points) : Créez et entraînez un réseau de neurones plus complexe (ajout de couches supplémentaires).\n",
        "*   Comparaison des Performances (1 points) : Comparez les performances des deux modèles en utilisant la précision et la F1-score."
      ],
      "metadata": {
        "id": "igpCLy8_bjjD"
      }
    },
    {
      "cell_type": "code",
      "source": [
        "from keras.datasets import boston_housing\n",
        "print('Exercice 2 - DEBUT')\n",
        "# TODO\n",
        "print('Exercice 2 - FIN')"
      ],
      "metadata": {
        "id": "9Kl9D6rEb8hB"
      },
      "execution_count": null,
      "outputs": []
    },
    {
      "cell_type": "markdown",
      "source": [
        "# **Exercice 3 : Réseau de Neurones Convolutionnel (CNN) (5 points)**"
      ],
      "metadata": {
        "id": "gwnQyqgeMfSc"
      }
    },
    {
      "cell_type": "markdown",
      "source": [
        "Utilisez le dataset CIFAR10 : from keras.datasets import cifar10\n",
        "\n",
        "*   Implémentation (4 points) : Implémentez un réseau de neurones convolutionnel (CNN) pour classer des images de différentes catégories. Utilisez un ensemble de données d'images approprié (CIFAR-10).\n",
        "*   Évaluation des Performances (1 points) : Évaluez les performances du modèle en utilisant la précision globale sur l'ensemble de test."
      ],
      "metadata": {
        "id": "7VRt8Vacb_pA"
      }
    },
    {
      "cell_type": "code",
      "source": [
        "from keras.datasets import cifar10\n",
        "print('Exercice 3 - DEBUT')\n",
        "# TODO\n",
        "print('Exercice 3 - FIN')"
      ],
      "metadata": {
        "id": "3DEm1-4ScQQJ"
      },
      "execution_count": null,
      "outputs": []
    },
    {
      "cell_type": "markdown",
      "source": [
        "# **Exercice 4 : Large Language Models (GPT) (5 points)**"
      ],
      "metadata": {
        "id": "MN0OnWBoMjwg"
      }
    },
    {
      "cell_type": "markdown",
      "source": [
        "*   Implémentation (4 points) : Utilisez un modèle de langage pré-entraîné (par exemple, GPT-2 ou BERT) pour générer un paragraphe sur les avantages des énergies renouvelables. Implémentez un pipeline de génération de texte en utilisant la bibliothèque Transformers de Hugging Face.\n",
        "*   Analyse des Résultats (1 point) : Interprétez les résultats et discutez des forces et des limites des modèles de langage utilisés"
      ],
      "metadata": {
        "id": "0kmt0YX_cTaY"
      }
    },
    {
      "cell_type": "code",
      "source": [
        "from transformers import pipeline\n",
        "print('Exercice 4 - DEBUT')\n",
        "# TODO\n",
        "print('Exercice 4 - FIN')"
      ],
      "metadata": {
        "id": "xtHkWwouchnu"
      },
      "execution_count": null,
      "outputs": []
    }
  ],
  "metadata": {
    "accelerator": "GPU",
    "colab": {
      "name": "Examen_ML_DL_2.ipynb",
      "provenance": [],
      "toc_visible": true,
      "include_colab_link": true
    },
    "kernelspec": {
      "display_name": "Python 3",
      "language": "python",
      "name": "python3"
    },
    "language_info": {
      "codemirror_mode": {
        "name": "ipython",
        "version": 3
      },
      "file_extension": ".py",
      "mimetype": "text/x-python",
      "name": "python",
      "nbconvert_exporter": "python",
      "pygments_lexer": "ipython3",
      "version": "3.6.9"
    }
  },
  "nbformat": 4,
  "nbformat_minor": 0
}